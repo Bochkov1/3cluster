{
 "cells": [
  {
   "cell_type": "markdown",
   "id": "10e96f54",
   "metadata": {},
   "source": [
    "# Выделение списка условий из вакансии"
   ]
  },
  {
   "cell_type": "code",
   "execution_count": 81,
   "id": "a09a8633",
   "metadata": {},
   "outputs": [],
   "source": [
    "import sys\n",
    "sys.path.append('./GOT/')\n",
    "from got.asts import ast as ff\n",
    "from got.asts import base as base"
   ]
  },
  {
   "cell_type": "code",
   "execution_count": 82,
   "id": "39941854",
   "metadata": {},
   "outputs": [],
   "source": [
    "import pandas as pd\n",
    "import re\n",
    "import numpy as np"
   ]
  },
  {
   "cell_type": "code",
   "execution_count": 83,
   "id": "4467f794",
   "metadata": {},
   "outputs": [],
   "source": [
    "def get_picked(filename):\n",
    "    f = open(filename, mode='r', encoding='UTF-8')\n",
    "    picked = f.readlines()\n",
    "    f.close()\n",
    "    picked = list(map(lambda x: x.replace('\\n', '').lower(), picked))\n",
    "    return picked"
   ]
  },
  {
   "cell_type": "code",
   "execution_count": 84,
   "id": "da5f725f",
   "metadata": {},
   "outputs": [],
   "source": [
    "def clear_text(text, lowerize=True):\n",
    "    pat = re.compile(r'[^A-Za-z0-9 \\-\\n\\r.,;!?А-Яа-я]+')\n",
    "    cleared_text = re.sub(pat, ' ', text)\n",
    "\n",
    "    if lowerize:\n",
    "        cleared_text = cleared_text.lower()\n",
    "\n",
    "    tokens = cleared_text.split()\n",
    "    return tokens"
   ]
  },
  {
   "cell_type": "code",
   "execution_count": 85,
   "id": "6e54afb3",
   "metadata": {},
   "outputs": [],
   "source": [
    "def make_substrings(tokens, k=4):\n",
    "    for i in range(max(len(tokens) - k + 1, 1)):\n",
    "        yield ' '.join(tokens[i:i + k])\n",
    "\n",
    "\n",
    "def get_relevance_matrix(texts, strings):\n",
    "    matrix = np.empty((0, len(strings)), float)\n",
    "    prepared_text_tokens = [clear_text(t) for t in texts]\n",
    "\n",
    "    prepared_string_tokens = [clear_text(s) for s in strings]\n",
    "    prepared_strings = [' '.join(t) for t in prepared_string_tokens]\n",
    "\n",
    "    for text_tokens in prepared_text_tokens:\n",
    "        astt = base.AST.get_ast(list(make_substrings(text_tokens)))\n",
    "        row = np.array([astt.score(s) for s in prepared_strings])\n",
    "        matrix = np.append(matrix, [row], axis=0)\n",
    "\n",
    "    return matrix"
   ]
  },
  {
   "cell_type": "code",
   "execution_count": 86,
   "id": "82bf759f",
   "metadata": {},
   "outputs": [],
   "source": [
    "def extract_text(data, column_name):\n",
    "    texts = []\n",
    "    for index, row in data.iterrows():\n",
    "        text = row[column_name]\n",
    "        if pd.notnull(text):\n",
    "            if text.strip() == '':\n",
    "                text = 'none'\n",
    "            texts.append(text)\n",
    "        else:\n",
    "            texts.append('none')\n",
    "    return texts"
   ]
  },
  {
   "cell_type": "code",
   "execution_count": 87,
   "id": "18fc0f32",
   "metadata": {},
   "outputs": [],
   "source": [
    "def save_relevance_matrix2(filename):\n",
    "    np.set_printoptions(threshold=np.inf, linewidth=np.inf)  # turn off summarization, line-wrapping\n",
    "    with open(filename, 'w') as f:\n",
    "        f.write(np.array2string(relevance_matrix, separator=', '))\n",
    "    np.savetxt(filename, relevance_matrix)"
   ]
  },
  {
   "cell_type": "code",
   "execution_count": 88,
   "id": "d8609d6e",
   "metadata": {},
   "outputs": [
    {
     "data": {
      "text/html": [
       "<div>\n",
       "<style scoped>\n",
       "    .dataframe tbody tr th:only-of-type {\n",
       "        vertical-align: middle;\n",
       "    }\n",
       "\n",
       "    .dataframe tbody tr th {\n",
       "        vertical-align: top;\n",
       "    }\n",
       "\n",
       "    .dataframe thead th {\n",
       "        text-align: right;\n",
       "    }\n",
       "</style>\n",
       "<table border=\"1\" class=\"dataframe\">\n",
       "  <thead>\n",
       "    <tr style=\"text-align: right;\">\n",
       "      <th></th>\n",
       "      <th>domain_id</th>\n",
       "      <th>domain_name</th>\n",
       "      <th>profearea_id</th>\n",
       "      <th>profearea_name</th>\n",
       "      <th>ad_id</th>\n",
       "      <th>name</th>\n",
       "      <th>requirements</th>\n",
       "      <th>responsibilities</th>\n",
       "      <th>conditions</th>\n",
       "    </tr>\n",
       "  </thead>\n",
       "  <tbody>\n",
       "    <tr>\n",
       "      <th>0</th>\n",
       "      <td>7</td>\n",
       "      <td>Информационные технологии, интернет, телеком</td>\n",
       "      <td>107</td>\n",
       "      <td>Руководитель проектов</td>\n",
       "      <td>89187718</td>\n",
       "      <td>Руководитель проектов сопровождения</td>\n",
       "      <td>Умеете работать с рисками; \\n Способны выстраи...</td>\n",
       "      <td>Развивать бизнес-приложения и решения внешних ...</td>\n",
       "      <td>Официальное оформление с первого рабочего дня;...</td>\n",
       "    </tr>\n",
       "    <tr>\n",
       "      <th>1</th>\n",
       "      <td>7</td>\n",
       "      <td>Информационные технологии, интернет, телеком</td>\n",
       "      <td>10</td>\n",
       "      <td>Аналитик</td>\n",
       "      <td>90478414</td>\n",
       "      <td>Системный аналитик</td>\n",
       "      <td>Опыт работы аналитиком от 2-х лет; \\nОпыт прое...</td>\n",
       "      <td>Возможность построить карьеру в ИТ банковской ...</td>\n",
       "      <td>Опыт работы с CRM-системами (Microsoft Dynamic...</td>\n",
       "    </tr>\n",
       "    <tr>\n",
       "      <th>2</th>\n",
       "      <td>7</td>\n",
       "      <td>Информационные технологии, интернет, телеком</td>\n",
       "      <td>10</td>\n",
       "      <td>Аналитик</td>\n",
       "      <td>87797674</td>\n",
       "      <td>Ведущий аналитик</td>\n",
       "      <td>Управление работой группы аналитиков на проект...</td>\n",
       "      <td>Опыт проектирования систем различного класса в...</td>\n",
       "      <td>Никаких Дресс-кодов и стандартов \\nКлассные ве...</td>\n",
       "    </tr>\n",
       "    <tr>\n",
       "      <th>3</th>\n",
       "      <td>7</td>\n",
       "      <td>Информационные технологии, интернет, телеком</td>\n",
       "      <td>96</td>\n",
       "      <td>Программист, разработчик</td>\n",
       "      <td>90037853</td>\n",
       "      <td>Программист Баз Данных (SQL)</td>\n",
       "      <td>Уверенные знания SQL (MySQL) понимание плана в...</td>\n",
       "      <td>Оптимизация SQL-кода (план запроса, управление...</td>\n",
       "      <td>Занятия в фитнес-клубе за счет компании; \\nОпл...</td>\n",
       "    </tr>\n",
       "    <tr>\n",
       "      <th>4</th>\n",
       "      <td>7</td>\n",
       "      <td>Информационные технологии, интернет, телеком</td>\n",
       "      <td>96</td>\n",
       "      <td>Программист, разработчик</td>\n",
       "      <td>88043841</td>\n",
       "      <td>Разработчик в команду надёжности и производите...</td>\n",
       "      <td>знаете С++ и многопоточное программирование; \\...</td>\n",
       "      <td>придумывать, разрабатывать и улучшать инструме...</td>\n",
       "      <td>знаете ROS; \\nпрограммировали и анализировали ...</td>\n",
       "    </tr>\n",
       "  </tbody>\n",
       "</table>\n",
       "</div>"
      ],
      "text/plain": [
       "   domain_id                                   domain_name  profearea_id  \\\n",
       "0          7  Информационные технологии, интернет, телеком           107   \n",
       "1          7  Информационные технологии, интернет, телеком            10   \n",
       "2          7  Информационные технологии, интернет, телеком            10   \n",
       "3          7  Информационные технологии, интернет, телеком            96   \n",
       "4          7  Информационные технологии, интернет, телеком            96   \n",
       "\n",
       "             profearea_name     ad_id  \\\n",
       "0     Руководитель проектов  89187718   \n",
       "1                  Аналитик  90478414   \n",
       "2                  Аналитик  87797674   \n",
       "3  Программист, разработчик  90037853   \n",
       "4  Программист, разработчик  88043841   \n",
       "\n",
       "                                                name  \\\n",
       "0                Руководитель проектов сопровождения   \n",
       "1                                 Системный аналитик   \n",
       "2                                   Ведущий аналитик   \n",
       "3                       Программист Баз Данных (SQL)   \n",
       "4  Разработчик в команду надёжности и производите...   \n",
       "\n",
       "                                        requirements  \\\n",
       "0  Умеете работать с рисками; \\n Способны выстраи...   \n",
       "1  Опыт работы аналитиком от 2-х лет; \\nОпыт прое...   \n",
       "2  Управление работой группы аналитиков на проект...   \n",
       "3  Уверенные знания SQL (MySQL) понимание плана в...   \n",
       "4  знаете С++ и многопоточное программирование; \\...   \n",
       "\n",
       "                                    responsibilities  \\\n",
       "0  Развивать бизнес-приложения и решения внешних ...   \n",
       "1  Возможность построить карьеру в ИТ банковской ...   \n",
       "2  Опыт проектирования систем различного класса в...   \n",
       "3  Оптимизация SQL-кода (план запроса, управление...   \n",
       "4  придумывать, разрабатывать и улучшать инструме...   \n",
       "\n",
       "                                          conditions  \n",
       "0  Официальное оформление с первого рабочего дня;...  \n",
       "1  Опыт работы с CRM-системами (Microsoft Dynamic...  \n",
       "2  Никаких Дресс-кодов и стандартов \\nКлассные ве...  \n",
       "3  Занятия в фитнес-клубе за счет компании; \\nОпл...  \n",
       "4  знаете ROS; \\nпрограммировали и анализировали ...  "
      ]
     },
     "execution_count": 88,
     "metadata": {},
     "output_type": "execute_result"
    }
   ],
   "source": [
    "data = pd.read_csv('data_forprint.csv', encoding='utf8', index_col=None)\n",
    "data= data.drop('Unnamed: 0',axis=1)\n",
    "data.head(5)"
   ]
  },
  {
   "cell_type": "code",
   "execution_count": 89,
   "id": "b0bc66c3",
   "metadata": {},
   "outputs": [],
   "source": [
    "texts = extract_text(data, 'conditions')"
   ]
  },
  {
   "cell_type": "code",
   "execution_count": 90,
   "id": "93150259",
   "metadata": {},
   "outputs": [
    {
     "data": {
      "text/plain": [
       "['Официальное оформление с первого рабочего дня; \\nКомпенсация расходов на спорт и здоровье или курсы английского языка; \\nУдобный график работы с гибким началом рабочего дня; \\nКонкурентная оплату (оклад + бонус по результатам выполнения проектов); \\n<strong>Возможность удаленной работы;</strong> \\nСистема грейдов, систему наставничества, индивидуальный план развития; \\nРабота среди профессионалов, наша команда одна из самых компетентных команд по внедрению ECM на российском рынке; \\nРегулярные образовательные мероприятия внутри компании, участие и выступления на конференциях. ',\n",
       " 'Опыт работы с CRM-системами (Microsoft Dynamics 365, Сreatio, Oracle Siebel CRM, Salesforce и т.д.); \\nОпыт работы в системных интеграторах/вендорах. ',\n",
       " 'Никаких Дресс-кодов и стандартов \\nКлассные вечеринки (Отдых — это важная часть работы) \\nВысокий уровень дохода (в том числе бонусы за результат) \\nМедицинскую страховку (ДМС, включая стоматологию и госпитализацию, страхование выезжающих за рубеж) \\nКорпоративные скидки на пользование услугами турагентств, страхования, мобильной связи, фитнес-центров \\nСкидки на оплату мобильной связи: оператор МТС \\nСертификации и обучения, включая неограниченное посещение курсов в собственном корпоративном университете \\nКурсы английского языка за счет компании \\nУслуги корпоративного такси, если ты задержался на работе до 22.00 и далее \\nВозможность реализовать личные бизнес-инициативы на базе собственного Банка Идей \\nЗанятия в корпоративной футбольной команде \\nВрач в офисе \\nКорпоративный транспорт \\nДополнительные опции для родителей: материальная помощь за рождение ребёнка, доплата до 100% за отпуск по беременности и родам, новогодние подарки, дополнительный день отдыха для родителей первоклассников 1 сентября \\nДетские праздники ',\n",
       " 'Занятия в фитнес-клубе за счет компании; \\nОплачиваемые обучения; \\nГибридный формат сотрудничества после прохождения испытательного срока; \\nГибкое начало рабочего дня; \\nТрудоустройство в штат или иные формы взаимодействия (ИП, ГПХ) – как вам удобнее; \\nОфис в центре города, недалеко от метро. ']"
      ]
     },
     "execution_count": 90,
     "metadata": {},
     "output_type": "execute_result"
    }
   ],
   "source": [
    "texts[0:4]"
   ]
  },
  {
   "cell_type": "code",
   "execution_count": 91,
   "id": "51cb5423",
   "metadata": {},
   "outputs": [],
   "source": [
    " picked = get_picked(\"cond_picked.txt\")"
   ]
  },
  {
   "cell_type": "code",
   "execution_count": 92,
   "id": "68cf1f66",
   "metadata": {},
   "outputs": [
    {
     "data": {
      "text/plain": [
       "['стоматологией',\n",
       " 'дмс',\n",
       " 'обучение',\n",
       " 'официальный',\n",
       " 'компенсация',\n",
       " 'спорт',\n",
       " 'курсы',\n",
       " 'английский',\n",
       " 'гибкий',\n",
       " 'заработная плата',\n",
       " 'тк рф',\n",
       " 'работы 5 2',\n",
       " 'карьерного роста',\n",
       " 'аккредитованной',\n",
       " 'it компании',\n",
       " 'гибкое начало',\n",
       " 'удаленный формат',\n",
       " 'корпоративные мероприятия',\n",
       " 'дмс стоматологией',\n",
       " 'удаленный формат работы',\n",
       " 'гибкое начало рабочего дня',\n",
       " 'бонус результатам',\n",
       " 'система грейдов систему',\n",
       " 'систему наставничества индивидуальный',\n",
       " 'индивидуальный план развития',\n",
       " 'профессионалов наша команда',\n",
       " 'регулярные образовательные мероприятия',\n",
       " 'microsoft dynamics 365',\n",
       " 'услуги корпоративного такси',\n",
       " 'график работы 5 2',\n",
       " '9 00 18',\n",
       " 'дмс после испытательного срока',\n",
       " 'страховку несчастных случаев',\n",
       " 'льготное страхование вашим близким',\n",
       " 'премии результатам работы',\n",
       " 'тренинги вебинары базы знаний',\n",
       " 'точек роста карьерном развитии',\n",
       " 'стабильная зп оклад премия',\n",
       " 'компании льготная ипотека отсрочка',\n",
       " 'развития тинькофф апгрейд курсы тренинги',\n",
       " 'акция приведи друга получай бонус',\n",
       " 'кинотеатре kion сервис мтс music',\n",
       " 'бесплатного пользования подпиской ozon premium',\n",
       " 'три дополнительных дня отпуска',\n",
       " 'заработная плата по результатам собеседования',\n",
       " 'профессионалов которые готовы делиться опытом',\n",
       " 'турниры лидерские программы киберспорт конкурсы',\n",
       " 'жилищная пенсионная программы дополнительные выплаты',\n",
       " 'рождение ребенка помощь корпоративного психолога']"
      ]
     },
     "execution_count": 92,
     "metadata": {},
     "output_type": "execute_result"
    }
   ],
   "source": [
    "picked"
   ]
  },
  {
   "cell_type": "markdown",
   "id": "3b5e8c67",
   "metadata": {},
   "source": [
    "# Построение матрицы релевантности вакансия - фраза из \"очищенного\" списка условий работы"
   ]
  },
  {
   "cell_type": "code",
   "execution_count": 93,
   "id": "5b2f44d3",
   "metadata": {},
   "outputs": [],
   "source": [
    "relevance_matrix = get_relevance_matrix(texts, picked)"
   ]
  },
  {
   "cell_type": "code",
   "execution_count": 94,
   "id": "fea7c423",
   "metadata": {},
   "outputs": [],
   "source": [
    "np.savetxt('relevance_matrix_cond.txt', relevance_matrix)"
   ]
  },
  {
   "cell_type": "code",
   "execution_count": 95,
   "id": "c20591d8",
   "metadata": {},
   "outputs": [],
   "source": [
    "mask = relevance_matrix >= 0.3\n",
    "idx_x_conditions = pd.DataFrame(columns=['ad_id', 'conditions_refined', 'cond_idxs'])\n",
    "for i in range(len(mask)):\n",
    "    idx_x_conditions = idx_x_conditions._append({'ad_id': data.loc[i, 'ad_id'], 'conditions_refined': np.array(picked)[mask[i]],'cond_idxs': np.where(relevance_matrix[i] >= 0.3)}, ignore_index=True)\n"
   ]
  },
  {
   "cell_type": "code",
   "execution_count": 96,
   "id": "74c41fcc",
   "metadata": {},
   "outputs": [
    {
     "data": {
      "text/html": [
       "<div>\n",
       "<style scoped>\n",
       "    .dataframe tbody tr th:only-of-type {\n",
       "        vertical-align: middle;\n",
       "    }\n",
       "\n",
       "    .dataframe tbody tr th {\n",
       "        vertical-align: top;\n",
       "    }\n",
       "\n",
       "    .dataframe thead th {\n",
       "        text-align: right;\n",
       "    }\n",
       "</style>\n",
       "<table border=\"1\" class=\"dataframe\">\n",
       "  <thead>\n",
       "    <tr style=\"text-align: right;\">\n",
       "      <th></th>\n",
       "      <th>ad_id</th>\n",
       "      <th>conditions_refined</th>\n",
       "      <th>cond_idxs</th>\n",
       "    </tr>\n",
       "  </thead>\n",
       "  <tbody>\n",
       "    <tr>\n",
       "      <th>0</th>\n",
       "      <td>89187718</td>\n",
       "      <td>[официальный, компенсация, английский, it комп...</td>\n",
       "      <td>([3, 4, 7, 14, 17, 20, 21, 22, 23, 24, 25, 26,...</td>\n",
       "    </tr>\n",
       "    <tr>\n",
       "      <th>1</th>\n",
       "      <td>90478414</td>\n",
       "      <td>[работы 5 2, система грейдов систему, microsof...</td>\n",
       "      <td>([11, 22, 27],)</td>\n",
       "    </tr>\n",
       "    <tr>\n",
       "      <th>2</th>\n",
       "      <td>87797674</td>\n",
       "      <td>[стоматологией, обучение, английский, it компа...</td>\n",
       "      <td>([0, 2, 7, 14, 17, 18, 21, 28, 43, 48],)</td>\n",
       "    </tr>\n",
       "    <tr>\n",
       "      <th>3</th>\n",
       "      <td>90037853</td>\n",
       "      <td>[обучение, it компании, гибкое начало, гибкое ...</td>\n",
       "      <td>([2, 14, 15, 20, 31],)</td>\n",
       "    </tr>\n",
       "  </tbody>\n",
       "</table>\n",
       "</div>"
      ],
      "text/plain": [
       "      ad_id                                 conditions_refined  \\\n",
       "0  89187718  [официальный, компенсация, английский, it комп...   \n",
       "1  90478414  [работы 5 2, система грейдов систему, microsof...   \n",
       "2  87797674  [стоматологией, обучение, английский, it компа...   \n",
       "3  90037853  [обучение, it компании, гибкое начало, гибкое ...   \n",
       "\n",
       "                                           cond_idxs  \n",
       "0  ([3, 4, 7, 14, 17, 20, 21, 22, 23, 24, 25, 26,...  \n",
       "1                                    ([11, 22, 27],)  \n",
       "2           ([0, 2, 7, 14, 17, 18, 21, 28, 43, 48],)  \n",
       "3                             ([2, 14, 15, 20, 31],)  "
      ]
     },
     "execution_count": 96,
     "metadata": {},
     "output_type": "execute_result"
    }
   ],
   "source": [
    "idx_x_conditions[0:4]"
   ]
  },
  {
   "cell_type": "code",
   "execution_count": 97,
   "id": "9a1bc480",
   "metadata": {},
   "outputs": [],
   "source": [
    "final = pd.merge(data, idx_x_conditions, left_on='ad_id', right_on='ad_id', how='left')\n",
    "final[['conditions', 'conditions_refined']]\n",
    "final[['profearea_name', 'ad_id', 'conditions', 'conditions_refined', 'cond_idxs']].to_csv('data_with_cond_refined.csv')"
   ]
  },
  {
   "cell_type": "code",
   "execution_count": 98,
   "id": "47a13339",
   "metadata": {},
   "outputs": [],
   "source": [
    "np.set_printoptions(threshold=np.inf, linewidth=np.inf)  # turn off summarization, line-wrapping\n",
    "save_relevance_matrix2('relevance_matrix_cond_2.txt')"
   ]
  },
  {
   "cell_type": "markdown",
   "id": "16afc78a",
   "metadata": {},
   "source": [
    "# Выделение списка требований из вакансии"
   ]
  },
  {
   "cell_type": "code",
   "execution_count": 99,
   "id": "d369cc15",
   "metadata": {},
   "outputs": [],
   "source": [
    "texts = extract_text(data, 'requirements')"
   ]
  },
  {
   "cell_type": "code",
   "execution_count": 100,
   "id": "74c3585b",
   "metadata": {},
   "outputs": [
    {
     "data": {
      "text/plain": [
       "['Умеете работать с рисками; \\n Способны выстраивать эффективные переговоры и деловую переписку;  \\n Понимаете отличия Agile от Waterfall и условия, когда нужно применять каждый из них.  ',\n",
       " 'Опыт работы аналитиком от 2-х лет; \\nОпыт проектирования реляционных БД; \\nУверенное проектирование ER-диаграмм; \\nОпыт проектирования API; \\nОпыт проектирования пользовательских интерфейсов; \\nОпыт проектирования бизнес-процессов в нотации BPMN; \\nУмение самостоятельно искать информацию, предлагать варианты решений. ',\n",
       " 'Управление работой группы аналитиков на проекте (2-5 человек) \\nКонтроль качества работы аналитиков на проекте \\nОпределение общих подходов к выполнению системного/бизнес-анализа в команде, определение базовых артефактов \\nСбор, анализ и согласование требований с заказчиками \\nРазработка и согласование проектной документации (описание бизнес-процессов, их реализации и необходимых интеграций, инструкций) \\nПостановка задач разработчикам, приемка результатов \\nПроведение приемо-сдаточных испытаний \\nПроведение презентаций и демонстраций заказчикам \\nУчастие во внутренних программах развития аналитиков в качестве преподавателя ',\n",
       " 'Уверенные знания SQL (MySQL) понимание плана выполнения запроса, индексов, время выполнения запросов; \\nОпыт проектирования БД; \\nПонимание платформы 1С; \\nСпособность понять бизнес-логику клиента; \\nОпыт работы с Git; ']"
      ]
     },
     "execution_count": 100,
     "metadata": {},
     "output_type": "execute_result"
    }
   ],
   "source": [
    "texts[0:4]"
   ]
  },
  {
   "cell_type": "code",
   "execution_count": 101,
   "id": "f4df9764",
   "metadata": {},
   "outputs": [],
   "source": [
    " picked = get_picked(\"req_picked.txt\")"
   ]
  },
  {
   "cell_type": "code",
   "execution_count": 102,
   "id": "51086bd6",
   "metadata": {},
   "outputs": [
    {
     "data": {
      "text/plain": [
       "['опыт',\n",
       " 'знание',\n",
       " 'понимание',\n",
       " 'sql',\n",
       " '1с',\n",
       " 'образование',\n",
       " 'система',\n",
       " 'разработка',\n",
       " 'технический',\n",
       " 'опыт разработки',\n",
       " 'понимание принципов',\n",
       " 'высшее образование',\n",
       " 'техническое образование',\n",
       " 'опыт работы',\n",
       " '3 лет',\n",
       " 'работать команде',\n",
       " 'опыт написания',\n",
       " 'опыт администрирования',\n",
       " 'базовые знания',\n",
       " 'высшее техническое образование',\n",
       " 'аналитический склад ума',\n",
       " 'опыт работы системами',\n",
       " 'работы базами данных',\n",
       " 'понимание принципов работы',\n",
       " 'знание принципов построения',\n",
       " 'описания бизнес процессов',\n",
       " 'уверенный пользователь пк',\n",
       " 'чтения технической документации',\n",
       " 'опыт коммерческой разработки',\n",
       " 'грамотная устная письменная речь',\n",
       " 'знание английского языка уровне',\n",
       " 'опыт работы базами данных',\n",
       " 'опыт работы системами мониторинга',\n",
       " 'уровне чтения технической документации',\n",
       " 'желание развиватся данном направлении',\n",
       " 'опыт работы системным аналитиком',\n",
       " 'стека протоколов tcp ip',\n",
       " 'опыт работы docker',\n",
       " 'настройке операционных систем офисных',\n",
       " 'клиентов голосовые обращения чат поддержка',\n",
       " 'готовность разъездному характеру работы',\n",
       " 'оперативность быстрота выполнения задач ответственный',\n",
       " 'уровень системного администратора периферийного оборудования',\n",
       " 'опыт работы с jira confluence',\n",
       " 'умение работать режиме многозадачности',\n",
       " 'развитие soft skills презентационных навыков',\n",
       " 'опыт работы микросервисной архитектурой',\n",
       " 'опыт работы системами виртуализации',\n",
       " 'один языков программирования java']"
      ]
     },
     "execution_count": 102,
     "metadata": {},
     "output_type": "execute_result"
    }
   ],
   "source": [
    "picked"
   ]
  },
  {
   "cell_type": "markdown",
   "id": "03309ece",
   "metadata": {},
   "source": [
    "# Построение матрицы релевантности вакансия - фраза из \"очищенного\" списка  требований"
   ]
  },
  {
   "cell_type": "code",
   "execution_count": 103,
   "id": "8bc49980",
   "metadata": {},
   "outputs": [],
   "source": [
    "relevance_matrix = get_relevance_matrix(texts, picked)"
   ]
  },
  {
   "cell_type": "code",
   "execution_count": 104,
   "id": "bc59a827",
   "metadata": {},
   "outputs": [],
   "source": [
    "np.savetxt('relevance_matrix_req.txt', relevance_matrix)"
   ]
  },
  {
   "cell_type": "code",
   "execution_count": 105,
   "id": "e9559473",
   "metadata": {},
   "outputs": [],
   "source": [
    "mask = relevance_matrix >= 0.3\n",
    "idx_x_conditions = pd.DataFrame(columns=['ad_id', 'requiremnets_refined', 'req_idxs'])\n",
    "for i in range(len(mask)):\n",
    "    idx_x_conditions = idx_x_conditions._append({'ad_id': data.loc[i, 'ad_id'], 'requirements_refined': np.array(picked)[mask[i]],'req_idxs': np.where(relevance_matrix[i] >= 0.3)}, ignore_index=True)\n"
   ]
  },
  {
   "cell_type": "code",
   "execution_count": 106,
   "id": "539d7af7",
   "metadata": {},
   "outputs": [
    {
     "data": {
      "text/html": [
       "<div>\n",
       "<style scoped>\n",
       "    .dataframe tbody tr th:only-of-type {\n",
       "        vertical-align: middle;\n",
       "    }\n",
       "\n",
       "    .dataframe tbody tr th {\n",
       "        vertical-align: top;\n",
       "    }\n",
       "\n",
       "    .dataframe thead th {\n",
       "        text-align: right;\n",
       "    }\n",
       "</style>\n",
       "<table border=\"1\" class=\"dataframe\">\n",
       "  <thead>\n",
       "    <tr style=\"text-align: right;\">\n",
       "      <th></th>\n",
       "      <th>ad_id</th>\n",
       "      <th>requiremnets_refined</th>\n",
       "      <th>req_idxs</th>\n",
       "      <th>requirements_refined</th>\n",
       "    </tr>\n",
       "  </thead>\n",
       "  <tbody>\n",
       "    <tr>\n",
       "      <th>0</th>\n",
       "      <td>89187718</td>\n",
       "      <td>NaN</td>\n",
       "      <td>([15],)</td>\n",
       "      <td>[работать команде]</td>\n",
       "    </tr>\n",
       "    <tr>\n",
       "      <th>1</th>\n",
       "      <td>90478414</td>\n",
       "      <td>NaN</td>\n",
       "      <td>([0, 13, 25, 26, 35],)</td>\n",
       "      <td>[опыт, опыт работы, описания бизнес процессов,...</td>\n",
       "    </tr>\n",
       "    <tr>\n",
       "      <th>2</th>\n",
       "      <td>87797674</td>\n",
       "      <td>NaN</td>\n",
       "      <td>([7, 15, 25, 35],)</td>\n",
       "      <td>[разработка, работать команде, описания бизнес...</td>\n",
       "    </tr>\n",
       "    <tr>\n",
       "      <th>3</th>\n",
       "      <td>90037853</td>\n",
       "      <td>NaN</td>\n",
       "      <td>([1, 2, 3, 13, 23],)</td>\n",
       "      <td>[знание, понимание, sql, опыт работы, понимани...</td>\n",
       "    </tr>\n",
       "  </tbody>\n",
       "</table>\n",
       "</div>"
      ],
      "text/plain": [
       "      ad_id requiremnets_refined                req_idxs  \\\n",
       "0  89187718                  NaN                 ([15],)   \n",
       "1  90478414                  NaN  ([0, 13, 25, 26, 35],)   \n",
       "2  87797674                  NaN      ([7, 15, 25, 35],)   \n",
       "3  90037853                  NaN    ([1, 2, 3, 13, 23],)   \n",
       "\n",
       "                                requirements_refined  \n",
       "0                                 [работать команде]  \n",
       "1  [опыт, опыт работы, описания бизнес процессов,...  \n",
       "2  [разработка, работать команде, описания бизнес...  \n",
       "3  [знание, понимание, sql, опыт работы, понимани...  "
      ]
     },
     "execution_count": 106,
     "metadata": {},
     "output_type": "execute_result"
    }
   ],
   "source": [
    "idx_x_conditions[0:4]"
   ]
  },
  {
   "cell_type": "code",
   "execution_count": 107,
   "id": "66ec93e0",
   "metadata": {},
   "outputs": [],
   "source": [
    "final = pd.merge(data, idx_x_conditions, left_on='ad_id', right_on='ad_id', how='left')\n",
    "final[['requirements', 'requirements_refined']]\n",
    "final[['profearea_name', 'ad_id', 'requirements', 'requirements_refined', 'req_idxs']].to_csv('data_with_req_refined.csv')"
   ]
  },
  {
   "cell_type": "code",
   "execution_count": 108,
   "id": "9bf2f3ba",
   "metadata": {},
   "outputs": [],
   "source": [
    "np.set_printoptions(threshold=np.inf, linewidth=np.inf)  # turn off summarization, line-wrapping\n",
    "save_relevance_matrix2('relevance_matrix_req_2.txt')"
   ]
  },
  {
   "cell_type": "markdown",
   "id": "047a83a4",
   "metadata": {},
   "source": [
    "# Выделение списка обязанностей из вакансии"
   ]
  },
  {
   "cell_type": "code",
   "execution_count": 109,
   "id": "0747e9a6",
   "metadata": {},
   "outputs": [],
   "source": [
    "texts = extract_text(data, 'responsibilities')"
   ]
  },
  {
   "cell_type": "code",
   "execution_count": 110,
   "id": "4fe2b39c",
   "metadata": {},
   "outputs": [
    {
     "data": {
      "text/plain": [
       "['Развивать бизнес-приложения и решения внешних заказчиков; \\nУчаствовать в оценке запросов клиентов на сопровождении и согласовывать договоры; \\n Разрабатывать план проекта и документацию;  \\nВыполнять ключевые показатели эффективности и качества работы команды; \\nВести внутреннюю и внешнюю отчетность по работе команды; \\nПодбирать и развивать участников команды сопровождения; \\n Формировать и развивать долгосрочные деловые отношения с клиентами.  ',\n",
       " 'Возможность построить карьеру в ИТ банковской сферы; \\nРабота в дружной команде; \\nСоздание продукта на современном микросервисном стеке; \\nУчастие в развитии low-code и даже no-code подходов; \\nРеальный опыт проектирования решений для банковской отрасли; \\nРешение сложных и интересных архитектурных вопросов; \\nДрайв клиентских проектов; \\nВозможность стать лидером команды; \\nРабота с крупнейшими банками России. ',\n",
       " 'Опыт проектирования систем различного класса в качестве самостоятельного аналитика, а также ведущего аналитика \\nОпыт проектирования интеграционных взаимодействий \\nОпыт управления командой аналитиков на проекте \\nОпыт работы в консалтинге и/или заказная разработка ',\n",
       " 'Оптимизация SQL-кода (план запроса, управление индексами); \\nНаписание/изменение хранимых процедур, функций; \\nСпецифические выгрузки/загрузки в том числе по требованиям заказчика; \\nАвтоматизация процессов обмена данными и обработки данных; \\nИнтеграции с внутренними и внешними сервисами (в том числе 1С); \\nАвтоматизация бизнес-процессов, разработка отчетов и интерфейсов по вводу/выводу/обработке информации; \\nВзаимодействие с бизнес-аналитиками. ']"
      ]
     },
     "execution_count": 110,
     "metadata": {},
     "output_type": "execute_result"
    }
   ],
   "source": [
    "texts[0:4]"
   ]
  },
  {
   "cell_type": "code",
   "execution_count": 119,
   "id": "fae43cb2",
   "metadata": {},
   "outputs": [],
   "source": [
    " picked = get_picked(\"resp_picked.txt\")"
   ]
  },
  {
   "cell_type": "code",
   "execution_count": 120,
   "id": "ec9690f3",
   "metadata": {},
   "outputs": [
    {
     "data": {
      "text/plain": [
       "['разработка',\n",
       " 'проект',\n",
       " 'решение',\n",
       " 'контроль',\n",
       " 'тестирование',\n",
       " 'участие',\n",
       " 'взаимодействие',\n",
       " 'документация',\n",
       " 'контроль',\n",
       " 'тестирование',\n",
       " 'бизнес процессов',\n",
       " 'постановка задач',\n",
       " 'установка настройка',\n",
       " 'участие разработке',\n",
       " 'платформе 1с',\n",
       " 'программного обеспечения',\n",
       " 'проектной документации',\n",
       " 'информационных систем',\n",
       " 'технических заданий',\n",
       " 'информационной безопасности',\n",
       " 'сбор анализ',\n",
       " 'принимать входящие звонки',\n",
       " 'постановка задач разработчикам',\n",
       " 'анализ бизнес процессов',\n",
       " 'настройка windows офисных',\n",
       " 'консультирование пользователей',\n",
       " 'разработка нового функционала',\n",
       " 'быструю систему адаптации',\n",
       " 'обеспечение бесперебойной работы',\n",
       " 'подключение настройка периферийного оборудования',\n",
       " 'сборка размещение комплектов оборудования',\n",
       " 'чаты 40 звонки скрипт',\n",
       " 'диагностика проведение ремонта профилактики',\n",
       " 'принимать входящие звонки обращения',\n",
       " 'вносить информацию специализированную программу',\n",
       " 'сборка размещение комплектов оборудования',\n",
       " 'отчетности в мобильном приложении',\n",
       " 'проводить функциональное автоматизированное тестирование',\n",
       " 'подключением новых абонентов физических',\n",
       " 'управление торговлей управление холдингом',\n",
       " 'входящие звонки обращения в чатах',\n",
       " 'вносить информацию в специализированную программу',\n",
       " 'установка настройка oc windows офисных',\n",
       " 'периферийного оборудования включая торговое ккт',\n",
       " 'pos терминалов восстановление их работоспособности',\n",
       " 'работе цифровых услуг компании оборудования',\n",
       " 'подключением новых абонентов физических лиц',\n",
       " 'консультирование пользователей по корректной работе',\n",
       " 'адаптация корпоративные соцсети вселенная игрофикации']"
      ]
     },
     "execution_count": 120,
     "metadata": {},
     "output_type": "execute_result"
    }
   ],
   "source": [
    "picked"
   ]
  },
  {
   "cell_type": "markdown",
   "id": "23d67f28",
   "metadata": {},
   "source": [
    "# Построение матрицы релевантности вакансия - фраза из \"очищенного\" списка обязанностей"
   ]
  },
  {
   "cell_type": "code",
   "execution_count": 121,
   "id": "45f33129",
   "metadata": {},
   "outputs": [],
   "source": [
    "relevance_matrix = get_relevance_matrix(texts, picked)"
   ]
  },
  {
   "cell_type": "code",
   "execution_count": 122,
   "id": "a231bd61",
   "metadata": {},
   "outputs": [],
   "source": [
    "np.savetxt('relevance_matrix_resp.txt', relevance_matrix)"
   ]
  },
  {
   "cell_type": "code",
   "execution_count": 123,
   "id": "627363d7",
   "metadata": {},
   "outputs": [],
   "source": [
    "mask = relevance_matrix >= 0.3\n",
    "idx_x_conditions = pd.DataFrame(columns=['ad_id', 'responsibilities_refined', 'resp_idxs'])\n",
    "for i in range(len(mask)):\n",
    "    idx_x_conditions = idx_x_conditions._append({'ad_id': data.loc[i, 'ad_id'], 'responsibilities_refined': np.array(picked)[mask[i]],'resp_idxs': np.where(relevance_matrix[i] >= 0.3)}, ignore_index=True)\n"
   ]
  },
  {
   "cell_type": "code",
   "execution_count": 124,
   "id": "9db529c0",
   "metadata": {},
   "outputs": [
    {
     "data": {
      "text/html": [
       "<div>\n",
       "<style scoped>\n",
       "    .dataframe tbody tr th:only-of-type {\n",
       "        vertical-align: middle;\n",
       "    }\n",
       "\n",
       "    .dataframe tbody tr th {\n",
       "        vertical-align: top;\n",
       "    }\n",
       "\n",
       "    .dataframe thead th {\n",
       "        text-align: right;\n",
       "    }\n",
       "</style>\n",
       "<table border=\"1\" class=\"dataframe\">\n",
       "  <thead>\n",
       "    <tr style=\"text-align: right;\">\n",
       "      <th></th>\n",
       "      <th>ad_id</th>\n",
       "      <th>responsibilities_refined</th>\n",
       "      <th>resp_idxs</th>\n",
       "    </tr>\n",
       "  </thead>\n",
       "  <tbody>\n",
       "    <tr>\n",
       "      <th>0</th>\n",
       "      <td>89187718</td>\n",
       "      <td>[разработка, проект, решение, документация, уч...</td>\n",
       "      <td>([0, 1, 2, 7, 13, 16, 36],)</td>\n",
       "    </tr>\n",
       "    <tr>\n",
       "      <th>1</th>\n",
       "      <td>90478414</td>\n",
       "      <td>[проект, решение, тестирование, участие, тести...</td>\n",
       "      <td>([1, 2, 4, 5, 9],)</td>\n",
       "    </tr>\n",
       "    <tr>\n",
       "      <th>2</th>\n",
       "      <td>87797674</td>\n",
       "      <td>[разработка, проект, тестирование, взаимодейст...</td>\n",
       "      <td>([0, 1, 4, 6, 9, 17, 39],)</td>\n",
       "    </tr>\n",
       "    <tr>\n",
       "      <th>3</th>\n",
       "      <td>90037853</td>\n",
       "      <td>[разработка, взаимодействие, бизнес процессов,...</td>\n",
       "      <td>([0, 6, 10, 17, 23, 26, 39],)</td>\n",
       "    </tr>\n",
       "  </tbody>\n",
       "</table>\n",
       "</div>"
      ],
      "text/plain": [
       "      ad_id                           responsibilities_refined  \\\n",
       "0  89187718  [разработка, проект, решение, документация, уч...   \n",
       "1  90478414  [проект, решение, тестирование, участие, тести...   \n",
       "2  87797674  [разработка, проект, тестирование, взаимодейст...   \n",
       "3  90037853  [разработка, взаимодействие, бизнес процессов,...   \n",
       "\n",
       "                       resp_idxs  \n",
       "0    ([0, 1, 2, 7, 13, 16, 36],)  \n",
       "1             ([1, 2, 4, 5, 9],)  \n",
       "2     ([0, 1, 4, 6, 9, 17, 39],)  \n",
       "3  ([0, 6, 10, 17, 23, 26, 39],)  "
      ]
     },
     "execution_count": 124,
     "metadata": {},
     "output_type": "execute_result"
    }
   ],
   "source": [
    "idx_x_conditions[0:4]"
   ]
  },
  {
   "cell_type": "code",
   "execution_count": 125,
   "id": "9f9234c6",
   "metadata": {},
   "outputs": [],
   "source": [
    "final = pd.merge(data, idx_x_conditions, left_on='ad_id', right_on='ad_id', how='left')\n",
    "final[['responsibilities', 'responsibilities_refined']]\n",
    "final[['profearea_name', 'ad_id', 'responsibilities', 'responsibilities_refined', 'resp_idxs']].to_csv('data_with_resp_refined.csv')"
   ]
  },
  {
   "cell_type": "code",
   "execution_count": 126,
   "id": "c04f4eca",
   "metadata": {},
   "outputs": [],
   "source": [
    "np.set_printoptions(threshold=np.inf, linewidth=np.inf)  # turn off summarization, line-wrapping\n",
    "save_relevance_matrix2('relevance_matrix_resp_2.txt')"
   ]
  },
  {
   "cell_type": "code",
   "execution_count": null,
   "id": "5b06af67",
   "metadata": {},
   "outputs": [],
   "source": []
  }
 ],
 "metadata": {
  "kernelspec": {
   "display_name": "Python 3 (ipykernel)",
   "language": "python",
   "name": "python3"
  },
  "language_info": {
   "codemirror_mode": {
    "name": "ipython",
    "version": 3
   },
   "file_extension": ".py",
   "mimetype": "text/x-python",
   "name": "python",
   "nbconvert_exporter": "python",
   "pygments_lexer": "ipython3",
   "version": "3.9.12"
  }
 },
 "nbformat": 4,
 "nbformat_minor": 5
}
